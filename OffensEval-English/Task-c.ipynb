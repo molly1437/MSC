{
 "cells": [
  {
   "cell_type": "code",
   "execution_count": 1,
   "metadata": {},
   "outputs": [],
   "source": [
    "import pandas as pd\n",
    "import re\n",
    "from sklearn.metrics import classification_report, recall_score, make_scorer, f1_score\n",
    "from sklearn.feature_extraction.text import TfidfTransformer, CountVectorizer\n",
    "from sklearn.model_selection import train_test_split\n",
    "from sklearn.pipeline import Pipeline\n",
    "from sklearn.utils import shuffle\n",
    "from sklearn.svm import SVC\n",
    "from data import *"
   ]
  },
  {
   "cell_type": "markdown",
   "metadata": {},
   "source": [
    "Task c：Who or what is the target of the offensive content?\n",
    "– IND: the target is an individual explicitly or implicitly mentioned in the conversation;\n",
    "– GRP: hate speech, targeting group of people based on ethnicity, gender, sexual orientation,\n",
    "religious belief, or other common characteristic;\n",
    "– OTH: targets that do not fall into any of the previous categories, e.g., organizations, events,\n",
    "and issues."
   ]
  },
  {
   "cell_type": "code",
   "execution_count": 2,
   "metadata": {
    "scrolled": true
   },
   "outputs": [
    {
     "name": "stdout",
     "output_type": "stream",
     "text": [
      "1.0    126989\n",
      "0.0     61984\n",
      "Name: average_ind, dtype: int64\n",
      "0.0    175147\n",
      "1.0     13826\n",
      "Name: average_grp, dtype: int64\n",
      "0.0    185902\n",
      "1.0      3071\n",
      "Name: average_oth, dtype: int64\n"
     ]
    },
    {
     "data": {
      "text/html": [
       "<div>\n",
       "<style scoped>\n",
       "    .dataframe tbody tr th:only-of-type {\n",
       "        vertical-align: middle;\n",
       "    }\n",
       "\n",
       "    .dataframe tbody tr th {\n",
       "        vertical-align: top;\n",
       "    }\n",
       "\n",
       "    .dataframe thead th {\n",
       "        text-align: right;\n",
       "    }\n",
       "</style>\n",
       "<table border=\"1\" class=\"dataframe\">\n",
       "  <thead>\n",
       "    <tr style=\"text-align: right;\">\n",
       "      <th></th>\n",
       "      <th>text</th>\n",
       "      <th>average_ind</th>\n",
       "      <th>average_grp</th>\n",
       "      <th>average_oth</th>\n",
       "      <th>std_ind</th>\n",
       "      <th>std_grp</th>\n",
       "      <th>std_oth</th>\n",
       "    </tr>\n",
       "    <tr>\n",
       "      <th>id</th>\n",
       "      <th></th>\n",
       "      <th></th>\n",
       "      <th></th>\n",
       "      <th></th>\n",
       "      <th></th>\n",
       "      <th></th>\n",
       "      <th></th>\n",
       "    </tr>\n",
       "  </thead>\n",
       "  <tbody>\n",
       "    <tr>\n",
       "      <th>1159533712079503361</th>\n",
       "      <td>@USER Trump is a fucking idiot his dementia is...</td>\n",
       "      <td>0.833432</td>\n",
       "      <td>0.076110</td>\n",
       "      <td>0.107765</td>\n",
       "      <td>0.208334</td>\n",
       "      <td>0.098937</td>\n",
       "      <td>0.138649</td>\n",
       "    </tr>\n",
       "    <tr>\n",
       "      <th>1159533713044234241</th>\n",
       "      <td>@USER HELL YES! His grinned and thumbs up are ...</td>\n",
       "      <td>0.481062</td>\n",
       "      <td>0.367363</td>\n",
       "      <td>0.138841</td>\n",
       "      <td>0.345225</td>\n",
       "      <td>0.335924</td>\n",
       "      <td>0.083230</td>\n",
       "    </tr>\n",
       "    <tr>\n",
       "      <th>1159533718345830400</th>\n",
       "      <td>@USER Can't wait to see the shit show his deat...</td>\n",
       "      <td>0.438813</td>\n",
       "      <td>0.268574</td>\n",
       "      <td>0.377573</td>\n",
       "      <td>0.182609</td>\n",
       "      <td>0.186880</td>\n",
       "      <td>0.254621</td>\n",
       "    </tr>\n",
       "    <tr>\n",
       "      <th>1159533739871002625</th>\n",
       "      <td>@USER @USER @USER This guys is dumb check his ...</td>\n",
       "      <td>0.712995</td>\n",
       "      <td>0.123504</td>\n",
       "      <td>0.111130</td>\n",
       "      <td>0.248839</td>\n",
       "      <td>0.107572</td>\n",
       "      <td>0.067552</td>\n",
       "    </tr>\n",
       "    <tr>\n",
       "      <th>1159533742366633984</th>\n",
       "      <td>@USER @USER Fuck him better than his hoes</td>\n",
       "      <td>0.691414</td>\n",
       "      <td>0.146723</td>\n",
       "      <td>0.192282</td>\n",
       "      <td>0.204415</td>\n",
       "      <td>0.154818</td>\n",
       "      <td>0.104436</td>\n",
       "    </tr>\n",
       "  </tbody>\n",
       "</table>\n",
       "</div>"
      ],
      "text/plain": [
       "                                                                  text  \\\n",
       "id                                                                       \n",
       "1159533712079503361  @USER Trump is a fucking idiot his dementia is...   \n",
       "1159533713044234241  @USER HELL YES! His grinned and thumbs up are ...   \n",
       "1159533718345830400  @USER Can't wait to see the shit show his deat...   \n",
       "1159533739871002625  @USER @USER @USER This guys is dumb check his ...   \n",
       "1159533742366633984          @USER @USER Fuck him better than his hoes   \n",
       "\n",
       "                     average_ind  average_grp  average_oth   std_ind  \\\n",
       "id                                                                     \n",
       "1159533712079503361     0.833432     0.076110     0.107765  0.208334   \n",
       "1159533713044234241     0.481062     0.367363     0.138841  0.345225   \n",
       "1159533718345830400     0.438813     0.268574     0.377573  0.182609   \n",
       "1159533739871002625     0.712995     0.123504     0.111130  0.248839   \n",
       "1159533742366633984     0.691414     0.146723     0.192282  0.204415   \n",
       "\n",
       "                      std_grp   std_oth  \n",
       "id                                       \n",
       "1159533712079503361  0.098937  0.138649  \n",
       "1159533713044234241  0.335924  0.083230  \n",
       "1159533718345830400  0.186880  0.254621  \n",
       "1159533739871002625  0.107572  0.067552  \n",
       "1159533742366633984  0.154818  0.104436  "
      ]
     },
     "execution_count": 2,
     "metadata": {},
     "output_type": "execute_result"
    }
   ],
   "source": [
    "#load the data\n",
    "data_c = pd.read_csv('data2/task_c_distant_ann.tsv', sep='\\t', header=0, index_col='id')\n",
    "print(round(data_c[\"average_ind\"]).value_counts())\n",
    "print(round(data_c[\"average_grp\"]).value_counts())\n",
    "print(round(data_c[\"average_oth\"]).value_counts())\n",
    "data_c.head()\n",
    "#print(len(data_c))"
   ]
  },
  {
   "cell_type": "markdown",
   "metadata": {},
   "source": [
    "# data analysis "
   ]
  },
  {
   "cell_type": "markdown",
   "metadata": {},
   "source": [
    "chose the biggest label"
   ]
  },
  {
   "cell_type": "code",
   "execution_count": 3,
   "metadata": {},
   "outputs": [],
   "source": [
    "def compare(x):\n",
    "    class_list = ['ind','grp','oth']\n",
    "    max_index = x.index(max(x, key = abs))\n",
    "    return class_list[max_index],x[max_index]"
   ]
  },
  {
   "cell_type": "code",
   "execution_count": 4,
   "metadata": {},
   "outputs": [
    {
     "data": {
      "text/plain": [
       "ind    152562\n",
       "grp     24917\n",
       "oth     11494\n",
       "Name: subtask_c, dtype: int64"
      ]
     },
     "execution_count": 4,
     "metadata": {},
     "output_type": "execute_result"
    }
   ],
   "source": [
    "type_list=[]\n",
    "average_list = []\n",
    "data_c[\"subtask_a\"]='Null'\n",
    "data_c[\"subtask_b\"]='Null'\n",
    "for i in zip(data_c['average_ind'],data_c['average_grp'],data_c['average_oth']):\n",
    "    type_tmp, average_tmp = compare(i)\n",
    "    type_list.append(type_tmp) \n",
    "    average_list.append(average_tmp)\n",
    "    \n",
    "data_c['subtask_c'] = type_list\n",
    "data_c['average'] = average_list\n",
    "data_c['subtask_c'].value_counts()\n",
    "#data_c.head()"
   ]
  },
  {
   "cell_type": "code",
   "execution_count": 5,
   "metadata": {},
   "outputs": [
    {
     "data": {
      "text/plain": [
       "ind    91925\n",
       "grp    24917\n",
       "oth    11494\n",
       "Name: subtask_c, dtype: int64"
      ]
     },
     "execution_count": 5,
     "metadata": {},
     "output_type": "execute_result"
    }
   ],
   "source": [
    "data_c = data_c.drop(columns=['average_ind', 'average_grp','average_oth','std_ind','std_grp','std_oth'])\n",
    "data_c = data_c[((data_c.subtask_c=='ind')&(data_c.average>=0.6))|(data_c.subtask_c=='grp')|(data_c.subtask_c=='oth')]\n",
    "data_c = data_c.drop(columns=['average'])\n",
    "data_c['subtask_c'].value_counts()\n",
    "#data_c.head()"
   ]
  },
  {
   "cell_type": "code",
   "execution_count": 6,
   "metadata": {},
   "outputs": [],
   "source": [
    "data_c.to_csv('data/subtask_c_train.csv',sep='\\t')"
   ]
  },
  {
   "cell_type": "code",
   "execution_count": 7,
   "metadata": {},
   "outputs": [
    {
     "data": {
      "text/html": [
       "<div>\n",
       "<style scoped>\n",
       "    .dataframe tbody tr th:only-of-type {\n",
       "        vertical-align: middle;\n",
       "    }\n",
       "\n",
       "    .dataframe tbody tr th {\n",
       "        vertical-align: top;\n",
       "    }\n",
       "\n",
       "    .dataframe thead th {\n",
       "        text-align: right;\n",
       "    }\n",
       "</style>\n",
       "<table border=\"1\" class=\"dataframe\">\n",
       "  <thead>\n",
       "    <tr style=\"text-align: right;\">\n",
       "      <th></th>\n",
       "      <th>text</th>\n",
       "      <th>subtask_a</th>\n",
       "      <th>subtask_b</th>\n",
       "      <th>subtask_c</th>\n",
       "    </tr>\n",
       "    <tr>\n",
       "      <th>id</th>\n",
       "      <th></th>\n",
       "      <th></th>\n",
       "      <th></th>\n",
       "      <th></th>\n",
       "    </tr>\n",
       "  </thead>\n",
       "  <tbody>\n",
       "    <tr>\n",
       "      <th>1159533712079503361</th>\n",
       "      <td>@USER Trump is a fucking idiot his dementia is...</td>\n",
       "      <td>Null</td>\n",
       "      <td>Null</td>\n",
       "      <td>ind</td>\n",
       "    </tr>\n",
       "    <tr>\n",
       "      <th>1159533739871002625</th>\n",
       "      <td>@USER @USER @USER This guys is dumb check his ...</td>\n",
       "      <td>Null</td>\n",
       "      <td>Null</td>\n",
       "      <td>ind</td>\n",
       "    </tr>\n",
       "    <tr>\n",
       "      <th>1159533742366633984</th>\n",
       "      <td>@USER @USER Fuck him better than his hoes</td>\n",
       "      <td>Null</td>\n",
       "      <td>Null</td>\n",
       "      <td>ind</td>\n",
       "    </tr>\n",
       "    <tr>\n",
       "      <th>1159533763791130624</th>\n",
       "      <td>Junhee and I are gonna take turns beating his ...</td>\n",
       "      <td>Null</td>\n",
       "      <td>Null</td>\n",
       "      <td>ind</td>\n",
       "    </tr>\n",
       "    <tr>\n",
       "      <th>1159534097754132480</th>\n",
       "      <td>@USER Exactly, a pervert.  So disgusting and h...</td>\n",
       "      <td>Null</td>\n",
       "      <td>Null</td>\n",
       "      <td>ind</td>\n",
       "    </tr>\n",
       "  </tbody>\n",
       "</table>\n",
       "</div>"
      ],
      "text/plain": [
       "                                                                  text  \\\n",
       "id                                                                       \n",
       "1159533712079503361  @USER Trump is a fucking idiot his dementia is...   \n",
       "1159533739871002625  @USER @USER @USER This guys is dumb check his ...   \n",
       "1159533742366633984          @USER @USER Fuck him better than his hoes   \n",
       "1159533763791130624  Junhee and I are gonna take turns beating his ...   \n",
       "1159534097754132480  @USER Exactly, a pervert.  So disgusting and h...   \n",
       "\n",
       "                    subtask_a subtask_b subtask_c  \n",
       "id                                                 \n",
       "1159533712079503361      Null      Null       ind  \n",
       "1159533739871002625      Null      Null       ind  \n",
       "1159533742366633984      Null      Null       ind  \n",
       "1159533763791130624      Null      Null       ind  \n",
       "1159534097754132480      Null      Null       ind  "
      ]
     },
     "execution_count": 7,
     "metadata": {},
     "output_type": "execute_result"
    }
   ],
   "source": [
    "data_c = pd.read_csv('data/subtask_c_train.csv', sep='\\t', header=0, index_col='id')\n",
    "data_c.head()"
   ]
  },
  {
   "cell_type": "code",
   "execution_count": 8,
   "metadata": {},
   "outputs": [
    {
     "name": "stdout",
     "output_type": "stream",
     "text": [
      "13240\n",
      "3876\n"
     ]
    },
    {
     "data": {
      "text/plain": [
       "IND    2407\n",
       "GRP    1074\n",
       "OTH     395\n",
       "Name: subtask_c, dtype: int64"
      ]
     },
     "execution_count": 8,
     "metadata": {},
     "output_type": "execute_result"
    }
   ],
   "source": [
    "test = pd.read_csv('data/olid-training-v1.0.tsv', sep='\\t', header=0, index_col='id')\n",
    "print(len(test))\n",
    "test = test[test.subtask_c.isin(['IND','GRP','OTH'])] \n",
    "print(len(test))\n",
    "test[\"subtask_c\"].value_counts()\n",
    "test.to_csv('data/subtask_c_test.csv',sep='\\t')\n",
    "test[\"subtask_c\"].value_counts()"
   ]
  },
  {
   "cell_type": "markdown",
   "metadata": {},
   "source": [
    "# Data preprocessing is complete, ready for training and testing"
   ]
  },
  {
   "cell_type": "code",
   "execution_count": 9,
   "metadata": {},
   "outputs": [],
   "source": [
    "def train_test_taskc(task_sign,C=1,g='scale',k='rbf'):\n",
    "\n",
    "    train_samples = read_file('data/subtask_c_train',task_sign)\n",
    "    X, y = [ x[\"text\"] for x in train_samples ], [ x[\"label\"] for x in train_samples ]\n",
    "    #print(y)\n",
    "    bow = CountVectorizer(max_features=3000)\n",
    "    tfidf = TfidfTransformer()\n",
    "\n",
    "    svm_clf = SVC(C, gamma=g, kernel=k)\n",
    "\n",
    "    pipeline = Pipeline([('bow', bow),\n",
    "                        ('tfidf', tfidf),\n",
    "                        ('clf', svm_clf),])\n",
    "\n",
    "    print('\\tTraining on', len(X), 'samples')\n",
    "    pipeline.fit(X, y)\n",
    "\n",
    "    predictions = pipeline.predict(X)\n",
    "    print ('-'* 40, '\\nTraining data\\n', classification_report(y, predictions, digits=3))\n",
    "\n",
    "    # Testing\n",
    "    print(\"Evaluating SVM classifier\")\n",
    "    test_samples = read_file('data/subtask_c_test',task_sign)\n",
    "    X, y = [ x[\"text\"] for x in test_samples ], [ x[\"label\"] for x in test_samples ]\n",
    "\n",
    "    predictions = pipeline.predict(X)\n",
    "    print ('Test data\\n', classification_report(y, predictions, digits=3))\n"
   ]
  },
  {
   "cell_type": "code",
   "execution_count": 10,
   "metadata": {},
   "outputs": [
    {
     "name": "stdout",
     "output_type": "stream",
     "text": [
      "1159533739871002625\t@USER @USER @USER This guys is dumb check his latest tweets he is sick\tNull\tNull\tind\n",
      "Total number of data: 128336\n",
      "\tTraining on 128336 samples\n",
      "---------------------------------------- \n",
      "Training data\n",
      "               precision    recall  f1-score   support\n",
      "\n",
      "           0      0.994     0.998     0.996     91925\n",
      "           1      0.980     0.982     0.981     24917\n",
      "           2      0.975     0.934     0.954     11494\n",
      "\n",
      "    accuracy                          0.989    128336\n",
      "   macro avg      0.983     0.971     0.977    128336\n",
      "weighted avg      0.989     0.989     0.989    128336\n",
      "\n",
      "Evaluating SVM classifier\n",
      "97670\t@USER Liberals are all Kookoo !!!\tOFF\tTIN\tOTH\n",
      "Total number of data: 3876\n",
      "Test data\n",
      "               precision    recall  f1-score   support\n",
      "\n",
      "           0      0.874     0.745     0.804      2407\n",
      "           1      0.571     0.764     0.653      1074\n",
      "           2      0.362     0.357     0.360       395\n",
      "\n",
      "    accuracy                          0.711      3876\n",
      "   macro avg      0.603     0.622     0.606      3876\n",
      "weighted avg      0.738     0.711     0.717      3876\n",
      "\n"
     ]
    }
   ],
   "source": [
    "train_test_taskc('C')"
   ]
  }
 ],
 "metadata": {
  "kernelspec": {
   "display_name": "Python 3",
   "language": "python",
   "name": "python3"
  },
  "language_info": {
   "codemirror_mode": {
    "name": "ipython",
    "version": 3
   },
   "file_extension": ".py",
   "mimetype": "text/x-python",
   "name": "python",
   "nbconvert_exporter": "python",
   "pygments_lexer": "ipython3",
   "version": "3.6.5"
  }
 },
 "nbformat": 4,
 "nbformat_minor": 2
}
